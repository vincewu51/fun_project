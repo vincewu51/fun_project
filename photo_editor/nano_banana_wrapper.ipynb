{
 "cells": [
  {
   "cell_type": "code",
   "execution_count": 2,
   "id": "896ad394",
   "metadata": {},
   "outputs": [],
   "source": [
    "import os\n",
    "import base64\n",
    "from google import genai\n",
    "from PIL import Image\n",
    "from io import BytesIO\n",
    "from dotenv import load_dotenv\n",
    "\n",
    "load_dotenv()\n",
    "API_KEY = os.getenv(\"GEMINI_API_KEY\")\n",
    "\n",
    "# Configure Nano Banana / Gemini client\n",
    "api_key = os.getenv(\"GEMINI_API_KEY\") \n",
    "client = genai.Client(api_key=api_key)\n",
    "# model = genai.GenerativeModel(\"gemini-2.5-flash-image-preview\")"
   ]
  },
  {
   "cell_type": "code",
   "execution_count": null,
   "id": "b163656b",
   "metadata": {},
   "outputs": [],
   "source": [
    "image_path_1 = \"img/original.JPG\"\n",
    "image_path_2 = \"img/background.JPG\"\n",
    "with open(image_path_1, \"rb\") as img_file:\n",
    "    img_data1 = img_file.read()\n",
    "\n",
    "with open(image_path_2, \"rb\") as img_file:\n",
    "    img_data2 = img_file.read()"
   ]
  },
  {
   "cell_type": "code",
   "execution_count": 23,
   "id": "e75f8a65",
   "metadata": {},
   "outputs": [],
   "source": [
    "prompt = (\n",
    "    \"Take the people from the first photo and seamlessly place them into the background \"\n",
    "    \"of the second photo. Remove the people and other objects from the second photo. \"\n",
    "    \"Preserve all facial features, body proportions, and clothing details exactly. \"\n",
    "    \"Convert the style of the first photo into the style of the second photo. \"\n",
    "    \"Maintain photorealistic colors, textures, and details for both the people and the background.\" \n",
    ")\n",
    "\n",
    "response = client.models.generate_content(\n",
    "    model=\"gemini-2.5-flash-image-preview\",\n",
    "    contents=[{\"inline_data\": {\"mime_type\": \"image/jpeg\", \"data\": img_data1}},\n",
    "              {\"inline_data\": {\"mime_type\": \"image/jpeg\", \"data\": img_data2}},\n",
    "                prompt]\n",
    ")"
   ]
  },
  {
   "cell_type": "code",
   "execution_count": null,
   "id": "0eac5c92",
   "metadata": {},
   "outputs": [],
   "source": [
    "import time\n",
    "from io import BytesIO\n",
    "from PIL import Image\n",
    "\n",
    "# ... your API response code ...\n",
    "\n",
    "if response.candidates:\n",
    "    candidate = response.candidates[0]\n",
    "    # Loop through parts to find inline_data\n",
    "    for part in candidate.content.parts:\n",
    "        if hasattr(part, \"inline_data\") and part.inline_data is not None:\n",
    "            img_bytes = part.inline_data.data # This is bytes\n",
    "            # Convert bytes to an image\n",
    "            image = Image.open(BytesIO(img_bytes))\n",
    "            \n",
    "            # Generate unique filename with timestamp\n",
    "            timestamp = int(time.time() * 1000)  # milliseconds for more uniqueness\n",
    "            filename = f\"img/{image_path_1}_edited_{timestamp}.png\"\n",
    "            \n",
    "            # Save with timestamped name\n",
    "            image.save(filename)\n",
    "            # display(image)\n",
    "            break\n",
    "    else:\n",
    "        print(\"No image data found in the response.\")\n",
    "else:\n",
    "    print(\"No candidates returned by the API.\")"
   ]
  },
  {
   "cell_type": "code",
   "execution_count": null,
   "id": "3dd5c536",
   "metadata": {},
   "outputs": [],
   "source": []
  }
 ],
 "metadata": {
  "kernelspec": {
   "display_name": "venv",
   "language": "python",
   "name": "python3"
  },
  "language_info": {
   "codemirror_mode": {
    "name": "ipython",
    "version": 3
   },
   "file_extension": ".py",
   "mimetype": "text/x-python",
   "name": "python",
   "nbconvert_exporter": "python",
   "pygments_lexer": "ipython3",
   "version": "3.10.14"
  }
 },
 "nbformat": 4,
 "nbformat_minor": 5
}
