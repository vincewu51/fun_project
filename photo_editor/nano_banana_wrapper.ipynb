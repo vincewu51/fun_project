{
 "cells": [
  {
   "cell_type": "code",
   "execution_count": 3,
   "id": "896ad394",
   "metadata": {},
   "outputs": [],
   "source": [
    "import os\n",
    "import base64\n",
    "from google import genai\n",
    "from PIL import Image\n",
    "from io import BytesIO\n",
    "from dotenv import load_dotenv\n",
    "\n",
    "load_dotenv()\n",
    "API_KEY = os.getenv(\"GEMINI_API_KEY\")\n",
    "\n",
    "# Configure Nano Banana / Gemini client\n",
    "api_key = os.getenv(\"GEMINI_API_KEY\") \n",
    "client = genai.Client(api_key=api_key)\n",
    "# model = genai.GenerativeModel(\"gemini-2.5-flash-image-preview\")"
   ]
  },
  {
   "cell_type": "code",
   "execution_count": 4,
   "id": "b163656b",
   "metadata": {},
   "outputs": [],
   "source": [
    "image_path = \"img/IMG_1958.JPG\"\n",
    "with open(image_path, \"rb\") as img_file:\n",
    "    img_data = img_file.read()"
   ]
  },
  {
   "cell_type": "code",
   "execution_count": 7,
   "id": "e75f8a65",
   "metadata": {},
   "outputs": [],
   "source": [
    "prompt = (\n",
    "    \"Convert this photo into a detailed watercolor painting. \"\n",
    "    \"Preserve all facial features and proportions of the person exactly. \"\n",
    "    \"Keep the colors soft and natural, with subtle watercolor brush strokes, \"\n",
    "    \"and maintain realistic skin tone and hair details.\"\n",
    ")\n",
    "\n",
    "response = client.models.generate_content(\n",
    "    model=\"gemini-2.5-flash\",\n",
    "    contents=[{\"inline_data\": {\"mime_type\": \"image/jpeg\", \"data\": img_data}}, prompt]\n",
    ")"
   ]
  },
  {
   "cell_type": "code",
   "execution_count": null,
   "id": "0eac5c92",
   "metadata": {},
   "outputs": [],
   "source": [
    "if response.candidates:\n",
    "    candidate = response.candidates[0]\n",
    "    \n",
    "    # Loop through parts to find inline_data\n",
    "    for part in candidate.content.parts:\n",
    "        if hasattr(part, \"inline_data\") and part.inline_data is not None:\n",
    "            img_bytes = part.inline_data.data  # This is bytes\n",
    "            # Convert bytes to an image\n",
    "            image = Image.open(BytesIO(img_bytes))\n",
    "            # Save or display\n",
    "            image.save(\"img/IMG_1958_watercolor.png\")\n",
    "            # display(image)\n",
    "            break\n",
    "    else:\n",
    "        print(\"No image data found in the response.\")\n",
    "else:\n",
    "    print(\"No candidates returned by the API.\")"
   ]
  },
  {
   "cell_type": "code",
   "execution_count": null,
   "id": "fbabe53b",
   "metadata": {},
   "outputs": [],
   "source": []
  }
 ],
 "metadata": {
  "kernelspec": {
   "display_name": "photo",
   "language": "python",
   "name": "python3"
  },
  "language_info": {
   "codemirror_mode": {
    "name": "ipython",
    "version": 3
   },
   "file_extension": ".py",
   "mimetype": "text/x-python",
   "name": "python",
   "nbconvert_exporter": "python",
   "pygments_lexer": "ipython3",
   "version": "3.10.18"
  }
 },
 "nbformat": 4,
 "nbformat_minor": 5
}
