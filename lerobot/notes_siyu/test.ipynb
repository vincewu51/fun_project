{
 "cells": [
  {
   "cell_type": "markdown",
   "id": "bd980630",
   "metadata": {},
   "source": [
    "h5dump -H ~/workspace/leisaac/datasets/Household-FruitDisplay-v0.hdf52️\n",
    "\n",
    " How h5dump and h5recover help\n",
    "\n",
    "These are low-level C tools from the official HDF5 utilities that can sometimes:\n",
    "\n",
    "read the raw binary layout of a broken file,\n",
    "\n",
    "skip invalid blocks,\n",
    "\n",
    "and reconstruct a new valid file (recovered.hdf5) that h5py can open.\n",
    "\n",
    "Commands:\n",
    "sudo apt install hdf5-tools\n",
    "h5dump -H broken_file.hdf5\n",
    "\n",
    "\n",
    "✅ Shows whether the tool can still read the file header.\n",
    "\n",
    "Then try:\n",
    "\n",
    "h5recover broken_file.hdf5 -o recovered.hdf5\n",
    "\n",
    "\n",
    "If it succeeds, it will say something like:\n",
    "\n",
    "Recovered 120 datasets and 3 groups to recovered.hdf5\n",
    "\n",
    "\n",
    "Now you can open recovered.hdf5 in Python:\n",
    "\n",
    "import h5py\n",
    "f = h5py.File(\"recovered.hdf5\", \"r\")\n",
    "print(list(f.keys()))\n"
   ]
  },
  {
   "cell_type": "code",
   "execution_count": 8,
   "id": "ae99c25c",
   "metadata": {},
   "outputs": [],
   "source": [
    "# import os, h5py \n",
    "\n",
    "# filename = os.path.expanduser(\"~/workspace/leisaac/datasets/Household-FruitDisplay-v0.hdf5\") \n",
    "# f = h5py.File(filename, \"r\") \n",
    "# print(\"Keys in file:\", list(f.keys()))"
   ]
  },
  {
   "cell_type": "code",
   "execution_count": 10,
   "id": "ec70df72",
   "metadata": {},
   "outputs": [
    {
     "name": "stdout",
     "output_type": "stream",
     "text": [
      "convert_hdf5_in_edrive.py\tdata_upload.py\t       notes.md\n",
      "convert_hdf5_in_edrive_v033.py\tisaaclab2lerobot_e.py  notes_siyu\n"
     ]
    }
   ],
   "source": [
    "! ls .."
   ]
  },
  {
   "cell_type": "code",
   "execution_count": null,
   "id": "c9e515dd",
   "metadata": {},
   "outputs": [],
   "source": []
  }
 ],
 "metadata": {
  "kernelspec": {
   "display_name": "visualization",
   "language": "python",
   "name": "python3"
  },
  "language_info": {
   "codemirror_mode": {
    "name": "ipython",
    "version": 3
   },
   "file_extension": ".py",
   "mimetype": "text/x-python",
   "name": "python",
   "nbconvert_exporter": "python",
   "pygments_lexer": "ipython3",
   "version": "3.10.18"
  }
 },
 "nbformat": 4,
 "nbformat_minor": 5
}
