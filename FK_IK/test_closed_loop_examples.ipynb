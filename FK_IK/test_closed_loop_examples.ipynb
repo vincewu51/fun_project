{
 "cells": [
  {
   "cell_type": "code",
   "execution_count": 7,
   "id": "92d985e3",
   "metadata": {},
   "outputs": [],
   "source": [
    "import modern_robotics as mr\n",
    "import numpy as np\n",
    "from closed_loop_utils import four_bar, two_arm_parallel"
   ]
  },
  {
   "cell_type": "code",
   "execution_count": 8,
   "id": "f984822c",
   "metadata": {},
   "outputs": [],
   "source": [
    "def validate_two_arm(sol, L):\n",
    "    \"\"\"\n",
    "    Validate two-arm parallel manipulator against Modern Robotics FK.\n",
    "    Returns transformation matrices of both arms at solved joint angles.\n",
    "    \"\"\"\n",
    "    th1, th2, th3, th4 = sol\n",
    "    Slist1 = np.array([[0,0,1,0,0,0], [0,0,1,0,-L,0]]).T\n",
    "    Slist2 = np.array([[0,0,1,0,0,0], [0,0,1,0,-L,0]]).T\n",
    "    \n",
    "    M1 = np.array([[1,0,0,2*L],\n",
    "                   [0,1,0,0],\n",
    "                   [0,0,1,0],\n",
    "                   [0,0,0,1]])\n",
    "    M2 = np.array([[1,0,0,2*L],\n",
    "                   [0,1,0,0],\n",
    "                   [0,0,1,0],\n",
    "                   [0,0,0,1]])\n",
    "    \n",
    "    T1 = mr.FKinSpace(M1, Slist1, [th1, th2])\n",
    "    T2 = mr.FKinSpace(M2, Slist2, [th3, th4])\n",
    "    \n",
    "    return T1, T2"
   ]
  },
  {
   "cell_type": "code",
   "execution_count": 9,
   "id": "b63a8225",
   "metadata": {},
   "outputs": [
    {
     "name": "stdout",
     "output_type": "stream",
     "text": [
      "4-bar solution (theta2, theta3) in degrees: [-360. -315.]\n",
      "Two-arm joint solution (th1, th2, th3, th4) in degrees: [ -269.99999999   629.99999999  1170.         -2430.00000002]\n",
      "FK arm 1 end-effector:\n",
      " [[ 1.00000000e+00 -1.35338407e-11  0.00000000e+00  1.00000000e+00]\n",
      " [ 1.35338407e-11  1.00000000e+00  0.00000000e+00  1.00000000e+00]\n",
      " [ 0.00000000e+00  0.00000000e+00  1.00000000e+00  0.00000000e+00]\n",
      " [ 0.00000000e+00  0.00000000e+00  0.00000000e+00  1.00000000e+00]]\n",
      "FK arm 2 end-effector:\n",
      " [[-1.00000000e+00 -3.19064775e-10  0.00000000e+00 -1.00000000e+00]\n",
      " [ 3.19064775e-10 -1.00000000e+00  0.00000000e+00  1.00000000e+00]\n",
      " [ 0.00000000e+00  0.00000000e+00  1.00000000e+00  0.00000000e+00]\n",
      " [ 0.00000000e+00  0.00000000e+00  0.00000000e+00  1.00000000e+00]]\n"
     ]
    }
   ],
   "source": [
    "# Example 1: 4-bar linkage\n",
    "theta1 = np.deg2rad(45)\n",
    "theta2, theta3 = four_bar(theta1, 1, 1, 1, 1)\n",
    "print(\"4-bar solution (theta2, theta3) in degrees:\", np.rad2deg([theta2, theta3]))\n",
    "\n",
    "# Example 2: Two-arm parallel manipulator\n",
    "sol = two_arm_parallel(1.0, 1.0, 1.0)\n",
    "print(\"Two-arm joint solution (th1, th2, th3, th4) in degrees:\", np.rad2deg(sol))\n",
    "\n",
    "# Validate with Modern Robotics forward kinematics\n",
    "T1, T2 = validate_two_arm(sol, 1.0)\n",
    "print(\"FK arm 1 end-effector:\\n\", T1)\n",
    "print(\"FK arm 2 end-effector:\\n\", T2)"
   ]
  }
 ],
 "metadata": {
  "kernelspec": {
   "display_name": "mujoco-env",
   "language": "python",
   "name": "python3"
  },
  "language_info": {
   "codemirror_mode": {
    "name": "ipython",
    "version": 3
   },
   "file_extension": ".py",
   "mimetype": "text/x-python",
   "name": "python",
   "nbconvert_exporter": "python",
   "pygments_lexer": "ipython3",
   "version": "3.10.18"
  }
 },
 "nbformat": 4,
 "nbformat_minor": 5
}
