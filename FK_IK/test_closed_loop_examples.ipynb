{
 "cells": [
  {
   "cell_type": "code",
   "execution_count": 1,
   "id": "92d985e3",
   "metadata": {},
   "outputs": [],
   "source": [
    "import modern_robotics as mr\n",
    "import numpy as np\n",
    "from closed_loop_utils import four_bar, two_arm_parallel, stewart_platform, rpr_3dof, jacobian_numeric, is_singular"
   ]
  },
  {
   "cell_type": "markdown",
   "id": "9de36fe2",
   "metadata": {},
   "source": [
    "4 bar links:\n",
    "\n",
    "- Ground link (L1)\n",
    "\n",
    "Fixed base between the two ground pivots.\n",
    "\n",
    "In setup: a horizontal bar of length L1.\n",
    "\n",
    "- Input crank (L2)\n",
    "\n",
    "The link you drive with an actuator (input angle = theta1).\n",
    "\n",
    "Rotates about the left ground pivot.\n",
    "\n",
    "- Coupler (L3)\n",
    "\n",
    "The “floating” link between the crank and the rocker.\n",
    "\n",
    "Connects the crank tip to the rocker tip.\n",
    "\n",
    "Angle = theta2 in the solver.\n",
    "\n",
    "- Output rocker (L4)\n",
    "\n",
    "The output link, pivoted at the right ground pivot.\n",
    "\n",
    "Angle = theta3 in the solver.\n",
    "  "
   ]
  },
  {
   "cell_type": "code",
   "execution_count": 2,
   "id": "f984822c",
   "metadata": {},
   "outputs": [
    {
     "name": "stdout",
     "output_type": "stream",
     "text": [
      "Four-bar angles (closure solver): -3.638612601411797e-15 0.523598775598296\n",
      "Coupler end position: (1.8660254037844388, 0.4999999999999963)\n",
      "Rocker end position: (1.8660254037844402, 0.49999999999999756)\n",
      "Closure error: 1.8452761694870047e-15\n"
     ]
    }
   ],
   "source": [
    "# Link lengths\n",
    "L1,L2,L3,L4 = 1,1,1,1\n",
    "\n",
    "# Input crank angle\n",
    "theta1 = np.pi/6\n",
    "\n",
    "# Solve closure\n",
    "theta2, theta3 = four_bar(theta1,L1,L2,L3,L4)\n",
    "print(\"Four-bar angles (closure solver):\", theta2, theta3)\n",
    "\n",
    "# Compute end-effector positions geometrically\n",
    "# Crank tip\n",
    "x_crank = L2 * np.cos(theta1)\n",
    "y_crank = L2 * np.sin(theta1)\n",
    "\n",
    "# Coupler tip (where coupler meets rocker)\n",
    "x_coupler = x_crank + L3 * np.cos(theta2)\n",
    "y_coupler = y_crank + L3 * np.sin(theta2)\n",
    "\n",
    "# Rocker tip (should coincide with coupler tip)\n",
    "x_rocker = L1 + L4 * np.cos(theta3)\n",
    "y_rocker = L4 * np.sin(theta3)\n",
    "\n",
    "print(\"Coupler end position:\", (x_coupler, y_coupler))\n",
    "print(\"Rocker end position:\", (x_rocker, y_rocker))\n",
    "print(\"Closure error:\", np.hypot(x_coupler-x_rocker, y_coupler-y_rocker))\n"
   ]
  }
 ],
 "metadata": {
  "kernelspec": {
   "display_name": "mujoco-env",
   "language": "python",
   "name": "python3"
  },
  "language_info": {
   "codemirror_mode": {
    "name": "ipython",
    "version": 3
   },
   "file_extension": ".py",
   "mimetype": "text/x-python",
   "name": "python",
   "nbconvert_exporter": "python",
   "pygments_lexer": "ipython3",
   "version": "3.10.18"
  }
 },
 "nbformat": 4,
 "nbformat_minor": 5
}
