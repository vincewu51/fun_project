{
 "cells": [
  {
   "cell_type": "code",
   "execution_count": 1,
   "id": "92d985e3",
   "metadata": {},
   "outputs": [],
   "source": [
    "import modern_robotics as mr\n",
    "import numpy as np\n",
    "from closed_loop_utils import four_bar, two_arm_parallel, stewart_platform, rpr_3dof, jacobian_numeric, is_singular"
   ]
  },
  {
   "cell_type": "markdown",
   "id": "9de36fe2",
   "metadata": {},
   "source": [
    "4 bar links:\n",
    "\n",
    "- Ground link (L1)\n",
    "\n",
    "Fixed base between the two ground pivots.\n",
    "\n",
    "In setup: a horizontal bar of length L1.\n",
    "\n",
    "- Input crank (L2)\n",
    "\n",
    "The link you drive with an actuator (input angle = theta1).\n",
    "\n",
    "Rotates about the left ground pivot.\n",
    "\n",
    "- Coupler (L3)\n",
    "\n",
    "The “floating” link between the crank and the rocker.\n",
    "\n",
    "Connects the crank tip to the rocker tip.\n",
    "\n",
    "Angle = theta2 in the solver.\n",
    "\n",
    "- Output rocker (L4)\n",
    "\n",
    "The output link, pivoted at the right ground pivot.\n",
    "\n",
    "Angle = theta3 in the solver.\n",
    "  "
   ]
  },
  {
   "cell_type": "code",
   "execution_count": 2,
   "id": "f984822c",
   "metadata": {},
   "outputs": [
    {
     "name": "stdout",
     "output_type": "stream",
     "text": [
      "Four-bar angles (closure solver): -3.638612601411797e-15 0.523598775598296\n",
      "Coupler end position: (1.8660254037844388, 0.4999999999999963)\n",
      "Rocker end position: (1.8660254037844402, 0.49999999999999756)\n",
      "Closure error: 1.8452761694870047e-15\n"
     ]
    }
   ],
   "source": [
    "# Link lengths\n",
    "L1,L2,L3,L4 = 1,1,1,1\n",
    "\n",
    "# Input crank angle\n",
    "theta1 = np.pi/6\n",
    "\n",
    "# Solve closure\n",
    "theta2, theta3 = four_bar(theta1,L1,L2,L3,L4)\n",
    "print(\"Four-bar angles (closure solver):\", theta2, theta3)\n",
    "\n",
    "# Compute end-effector positions geometrically\n",
    "# Crank tip\n",
    "x_crank = L2 * np.cos(theta1)\n",
    "y_crank = L2 * np.sin(theta1)\n",
    "\n",
    "# Coupler tip (where coupler meets rocker)\n",
    "x_coupler = x_crank + L3 * np.cos(theta2)\n",
    "y_coupler = y_crank + L3 * np.sin(theta2)\n",
    "\n",
    "# Rocker tip (should coincide with coupler tip)\n",
    "x_rocker = L1 + L4 * np.cos(theta3)\n",
    "y_rocker = L4 * np.sin(theta3)\n",
    "\n",
    "print(\"Coupler end position:\", (x_coupler, y_coupler))\n",
    "print(\"Rocker end position:\", (x_rocker, y_rocker))\n",
    "print(\"Closure error:\", np.hypot(x_coupler-x_rocker, y_coupler-y_rocker))\n"
   ]
  },
  {
   "cell_type": "code",
   "execution_count": 6,
   "id": "ac74ad7d",
   "metadata": {},
   "outputs": [
    {
     "name": "stdout",
     "output_type": "stream",
     "text": [
      "Two-arm joint angles (closure solver):\n",
      "  Arm1: 1.441244159644398 -1.9551931012916544\n",
      "  Arm2: 3.6555415952342947 -8.23837840847062\n",
      "End-effector pos Arm1: (1.000000000000288, 0.49999999999734973)\n",
      "End-effector pos Arm2: (1.0000000000004732, 0.5000000000000245)\n",
      "Target grasp point:    (1.0, 0.5)\n",
      "Closure error Arm1: 2.6658703107241357e-12\n",
      "Closure error Arm2: 4.738127640536351e-13\n",
      "FK with mr (Arm1): [1.  0.5]\n",
      "FK with mr (Arm2): [1.  0.5]\n"
     ]
    }
   ],
   "source": [
    "L = 1.0  # link length\n",
    "xd, yd = 1.0, 0.5  # target grasp point\n",
    "\n",
    "# Solve closure with your function\n",
    "th1, th2, th3, th4 = two_arm_parallel(xd, yd, L)\n",
    "print(\"Two-arm joint angles (closure solver):\")\n",
    "print(\"  Arm1:\", th1, th2)\n",
    "print(\"  Arm2:\", th3, th4)\n",
    "\n",
    "# -----------------------------\n",
    "# Geometric FK (for validation)\n",
    "# -----------------------------\n",
    "x1 = L*np.cos(th1) + L*np.cos(th1+th2)\n",
    "y1 = L*np.sin(th1) + L*np.sin(th1+th2)\n",
    "x2 = 2*L + L*np.cos(th3) + L*np.cos(th3+th4)\n",
    "y2 = L*np.sin(th3) + L*np.sin(th3+th4)\n",
    "\n",
    "print(\"End-effector pos Arm1:\", (x1, y1))\n",
    "print(\"End-effector pos Arm2:\", (x2, y2))\n",
    "print(\"Target grasp point:   \", (xd, yd))\n",
    "print(\"Closure error Arm1:\", np.hypot(x1-xd, y1-yd))\n",
    "print(\"Closure error Arm2:\", np.hypot(x2-xd, y2-yd))\n",
    "\n",
    "# -----------------------------\n",
    "# FK with modern_robotics (Arm1)\n",
    "# -----------------------------\n",
    "# Home configuration: EE at (2L,0)\n",
    "M1 = np.array([[1,0,0,2*L],\n",
    "               [0,1,0,0],\n",
    "               [0,0,1,0],\n",
    "               [0,0,0,1]])\n",
    "\n",
    "# Screw axes for Arm1 (in space frame, base at (0,0))\n",
    "Slist1 = np.array([[0,0,1,0,0,0],   # joint1 at (0,0)\n",
    "                   [0,0,1,0,-L,0]]).T  # joint2 at (L,0)\n",
    "\n",
    "T1 = mr.FKinSpace(M1, Slist1, [th1, th2])\n",
    "print(\"FK with mr (Arm1):\", T1[:2, 3])\n",
    "\n",
    "# -----------------------------\n",
    "# FK with modern_robotics (Arm2)\n",
    "# -----------------------------\n",
    "# Home configuration: EE at (d+2L, 0) where d=2L\n",
    "d = 2*L\n",
    "M2 = np.array([[1,0,0,d+2*L],\n",
    "               [0,1,0,0],\n",
    "               [0,0,1,0],\n",
    "               [0,0,0,1]])\n",
    "\n",
    "# Screw axes for Arm2 (must account for base at (d,0))\n",
    "# Joint1: rotation about z through (d,0)\n",
    "# Joint2: rotation about z through (d+L,0)\n",
    "Slist2 = np.array([[0,0,1,0,-d,0],        # joint1\n",
    "                   [0,0,1,0,-(d+L),0]]).T # joint2\n",
    "\n",
    "T2 = mr.FKinSpace(M2, Slist2, [th3, th4])\n",
    "print(\"FK with mr (Arm2):\", T2[:2, 3])"
   ]
  }
 ],
 "metadata": {
  "kernelspec": {
   "display_name": "mujoco-env",
   "language": "python",
   "name": "python3"
  },
  "language_info": {
   "codemirror_mode": {
    "name": "ipython",
    "version": 3
   },
   "file_extension": ".py",
   "mimetype": "text/x-python",
   "name": "python",
   "nbconvert_exporter": "python",
   "pygments_lexer": "ipython3",
   "version": "3.10.18"
  }
 },
 "nbformat": 4,
 "nbformat_minor": 5
}
