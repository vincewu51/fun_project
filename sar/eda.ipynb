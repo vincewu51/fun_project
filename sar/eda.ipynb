{
 "cells": [
  {
   "cell_type": "code",
   "execution_count": 4,
   "id": "fdc6d2c3",
   "metadata": {},
   "outputs": [
    {
     "name": "stderr",
     "output_type": "stream",
     "text": [
      "WARNING:asf_search:WKT REPAIR/VALIDATION: The following repairs were performed on the provided AOI:\n",
      "[\"'type': 'REVERSE': 'report': Reversed polygon winding order\"]\n"
     ]
    },
    {
     "name": "stdout",
     "output_type": "stream",
     "text": [
      "Found scenes: 3\n"
     ]
    }
   ],
   "source": [
    "import asf_search as asf\n",
    "\n",
    "results = asf.search(\n",
    "    platform=[asf.PLATFORM.SENTINEL1],\n",
    "    processingLevel=[asf.PRODUCT_TYPE.GRD_HD],\n",
    "    start=\"2022-01-01\",\n",
    "    end=\"2022-01-02\",\n",
    "    intersectsWith=\"POLYGON((-120 35, -120 36, -119 36, -119 35, -120 35))\"\n",
    ")\n",
    "\n",
    "print(\"Found scenes:\", len(results))\n",
    "results[0].download(path=\"./data\")\n"
   ]
  }
 ],
 "metadata": {
  "kernelspec": {
   "display_name": "photo",
   "language": "python",
   "name": "python3"
  },
  "language_info": {
   "codemirror_mode": {
    "name": "ipython",
    "version": 3
   },
   "file_extension": ".py",
   "mimetype": "text/x-python",
   "name": "python",
   "nbconvert_exporter": "python",
   "pygments_lexer": "ipython3",
   "version": "3.10.18"
  }
 },
 "nbformat": 4,
 "nbformat_minor": 5
}
