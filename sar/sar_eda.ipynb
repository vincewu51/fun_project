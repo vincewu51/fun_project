{
 "cells": [
  {
   "cell_type": "code",
   "execution_count": null,
   "id": "d347d3da",
   "metadata": {},
   "outputs": [
    {
     "name": "stderr",
     "output_type": "stream",
     "text": [
      "WARNING:asf_search:WKT REPAIR/VALIDATION: The following repairs were performed on the provided AOI:\n",
      "[\"'type': 'REVERSE': 'report': Reversed polygon winding order\"]\n"
     ]
    },
    {
     "name": "stdout",
     "output_type": "stream",
     "text": [
      "Found scenes: 3\n"
     ]
    },
    {
     "name": "stderr",
     "output_type": "stream",
     "text": [
      "/opt/miniconda3/envs/photo/lib/python3.10/site-packages/asf_search/download/download.py:66: UserWarning: File already exists, skipping download: ./data/S1A_IW_GRDH_1SDV_20220101T135219_20220101T135244_041268_04E7A6_6B2B.zip\n",
      "  warnings.warn(f'File already exists, skipping download: {os.path.join(path, filename)}')\n"
     ]
    }
   ],
   "source": [
    "import asf_search as asf\n",
    "import os\n",
    "import zipfile\n",
    "from pyroSAR import identify\n",
    "from spatialist import Raster\n",
    "import numpy as np\n",
    "import matplotlib.pyplot as plt\n",
    "\n",
    "results = asf.search(\n",
    "    platform=[asf.PLATFORM.SENTINEL1],\n",
    "    processingLevel=[asf.PRODUCT_TYPE.GRD_HD],\n",
    "    start=\"2022-01-01\",\n",
    "    end=\"2022-01-02\",\n",
    "    intersectsWith=\"POLYGON((-120 35, -120 36, -119 36, -119 35, -120 35))\"\n",
    ")\n",
    "\n",
    "print(\"Found scenes:\", len(results))\n",
    "results[0].download(path=\"./data\")\n"
   ]
  },
  {
   "cell_type": "code",
   "execution_count": null,
   "id": "8525776d",
   "metadata": {},
   "outputs": [
    {
     "name": "stdout",
     "output_type": "stream",
     "text": [
      "Scene: S1A_IW_GRDH_1SDV_20220101T135219_20220101T135244_041268_04E7A6_6B2B.zip\n",
      "pyroSAR ID object of type SAFE\n",
      "acquisition_mode: IW\n",
      "coordinates: [(-116.354172, 34.18055), (-119.091644, 34.583302), (-118.768211, 36.083237), (-115.979294, 35.681915)]\n",
      "cycleNumber: 250\n",
      "frameNumber: 321446\n",
      "lines: 16716\n",
      "orbit: D\n",
      "orbitNumber_abs: 41268\n",
      "orbitNumber_rel: 71\n",
      "polarizations: ['VV', 'VH']\n",
      "product: GRD\n",
      "projection: +proj=longlat +datum=WGS84 +no_defs\n",
      "samples: 25576\n",
      "sensor: S1A\n",
      "spacing: (10.0, 10.0)\n",
      "start: 20220101T135219\n",
      "stop: 20220101T135244\n"
     ]
    }
   ],
   "source": [
    "data_dir = \"./data\"\n",
    "output_dir = \"./eda_results\"\n",
    "os.makedirs(output_dir, exist_ok=True)\n",
    "\n",
    "# loop over all downloaded zip files\n",
    "for f in os.listdir(data_dir):\n",
    "    if f.endswith(\".zip\"):\n",
    "        path = os.path.join(data_dir, f)\n",
    "\n",
    "        # identify metadata\n",
    "        meta = identify(path)\n",
    "        print(f\"Scene: {f}\")\n",
    "        print(meta)\n",
    "\n",
    "        # read VV band\n",
    "        vv_files = meta.findfiles('^measurement.*vv.*tiff$')\n",
    "        if not vv_files:\n",
    "            continue\n",
    "        vv_path = vv_files[0]\n",
    "\n",
    "        with Raster(vv_path) as ras:\n",
    "            arr = ras.array()\n",
    "            arr = arr.astype(np.float32)\n",
    "\n",
    "            # statistics\n",
    "            print(\"Shape:\", arr.shape)\n",
    "            print(\"Min:\", np.min(arr), \"Max:\", np.max(arr))\n",
    "            print(\"Mean:\", np.mean(arr), \"Std:\", np.std(arr))\n",
    "\n",
    "            # save histogram\n",
    "            plt.figure()\n",
    "            plt.hist(arr.flatten(), bins=200, range=(np.min(arr), np.max(arr)))\n",
    "            plt.title(f\"Histogram VV - {f}\")\n",
    "            plt.xlabel(\"Backscatter Amplitude\")\n",
    "            plt.ylabel(\"Frequency\")\n",
    "            plt.savefig(os.path.join(output_dir, f\"{f}_histogram.png\"))\n",
    "            plt.close()\n",
    "\n",
    "            # save quick image preview\n",
    "            plt.figure(figsize=(10,10))\n",
    "            plt.imshow(arr, cmap='gray')\n",
    "            plt.title(f\"VV Preview - {f}\")\n",
    "            plt.colorbar(label=\"Amplitude\")\n",
    "            plt.savefig(os.path.join(output_dir, f\"{f}_preview.png\"))\n",
    "            plt.close()\n"
   ]
  },
  {
   "cell_type": "code",
   "execution_count": null,
   "id": "a2c3b7d6",
   "metadata": {},
   "outputs": [],
   "source": [
    "data_dir = \"./data\"\n",
    "output_dir = \"./eda_results\"\n",
    "os.makedirs(output_dir, exist_ok=True)\n",
    "\n",
    "for fname in os.listdir(data_dir):\n",
    "    if not fname.endswith(\".zip\"):\n",
    "        continue\n",
    "\n",
    "    zip_path = os.path.join(data_dir, fname)\n",
    "    meta = identify(zip_path)\n",
    "    print(f\"\\nScene: {fname}\\n{meta}\")\n",
    "\n",
    "    extract_dir = os.path.join(data_dir, fname + \"_extracted\")\n",
    "    if not os.path.exists(extract_dir):\n",
    "        with zipfile.ZipFile(zip_path) as zf:\n",
    "            zf.extractall(extract_dir)\n",
    "\n",
    "    vv_files = [\n",
    "        os.path.join(root, file)\n",
    "        for root, _, files in os.walk(extract_dir)\n",
    "        for file in files\n",
    "        if file.lower().endswith(\".tiff\") and \"vv\" in file.lower()\n",
    "    ]\n",
    "    if not vv_files:\n",
    "        print(\"No VV band found, skipping.\")\n",
    "        continue\n",
    "\n",
    "    vv_path = os.path.abspath(vv_files[0])\n",
    "    with Raster(vv_path, list_separate=False) as ras:\n",
    "        vv_arr = ras.array().astype(np.float32)\n",
    "\n",
    "    stats = {\n",
    "        \"shape\": vv_arr.shape,\n",
    "        \"min\": float(np.min(vv_arr)),\n",
    "        \"max\": float(np.max(vv_arr)),\n",
    "        \"mean\": float(np.mean(vv_arr)),\n",
    "        \"std\": float(np.std(vv_arr)),\n",
    "    }\n",
    "    print(stats)\n",
    "\n",
    "    plt.figure()\n",
    "    plt.hist(vv_arr.ravel(), bins=200)\n",
    "    plt.title(f\"Histogram VV - {fname}\")\n",
    "    plt.xlabel(\"Backscatter Amplitude\")\n",
    "    plt.ylabel(\"Frequency\")\n",
    "    plt.savefig(os.path.join(output_dir, f\"{fname}_VV_histogram.png\"))\n",
    "    plt.close()\n",
    "\n",
    "    plt.figure(figsize=(10, 10))\n",
    "    plt.imshow(vv_arr, cmap=\"gray\")\n",
    "    plt.title(f\"VV Preview - {fname}\")\n",
    "    plt.colorbar(label=\"Amplitude\")\n",
    "    plt.savefig(os.path.join(output_dir, f\"{fname}_VV_preview.png\"))\n",
    "    plt.close()\n"
   ]
  }
 ],
 "metadata": {
  "kernelspec": {
   "display_name": "pyrosar_env",
   "language": "python",
   "name": "python3"
  },
  "language_info": {
   "codemirror_mode": {
    "name": "ipython",
    "version": 3
   },
   "file_extension": ".py",
   "mimetype": "text/x-python",
   "name": "python",
   "nbconvert_exporter": "python",
   "pygments_lexer": "ipython3",
   "version": "3.10.18"
  }
 },
 "nbformat": 4,
 "nbformat_minor": 5
}
